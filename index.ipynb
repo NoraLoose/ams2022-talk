{
 "cells": [
  {
   "cell_type": "code",
   "execution_count": null,
   "metadata": {
    "slideshow": {
     "slide_type": "skip"
    }
   },
   "outputs": [],
   "source": [
    "# !conda install gcm_filters"
   ]
  },
  {
   "cell_type": "code",
   "execution_count": 1,
   "metadata": {
    "slideshow": {
     "slide_type": "skip"
    }
   },
   "outputs": [],
   "source": [
    "import warnings\n",
    "warnings.filterwarnings(\"ignore\")"
   ]
  },
  {
   "cell_type": "markdown",
   "metadata": {
    "slideshow": {
     "slide_type": "slide"
    }
   },
   "source": [
    "<!-- background: #fff4e3-->\n",
    "<!-- color: #2d2422 -->\n",
    "<div align=\"center\">\n",
    "    <img src=\"./images/title.png\" width=800/>\n",
    "    <h4><span style=\"font:tradegothic; color:gray\">GCM-Filters: A Python Package for Spatial Filtering of Gridded Data from Ocean and Climate Models</span></h4>\n",
    "    <hr>\n",
    "</div>\n",
    "<div align=\"center\">\n",
    "    <h4><span style=\"font:tradegothic; color:green\">Nora Loose<sup>1</sup></span><span style=\"font:tradegothic; style=color:black\">, Ryan Abernathey<sup>2</sup>, Ian Grooms<sup>1</sup>, Julius Busecke<sup>2</sup></span>, Arthur Barthe<sup>3</sup>, Elizabeth Yankovsky<sup>3</sup>, <br>Gustavo Marques<sup>4</sup>, Jacob Steinberg<sup>5</sup>, Andrew Slavin Ross<sup>3</sup>, Hemant Khatri<sup>6</sup>, Scott Bachman<sup>4</sup>, and Laure Zanna<sup>3</sup></h4>\n",
    "    <h6><span style=\"font:tradegothic; color:gray\"><sup>1</sup>Department of Applied Mathematics, University of Colorado Boulder, Boulder, CO, USA</span></h6>\n",
    "    <h6><span style=\"font:tradegothic; color:gray\"><sup>2</sup>Lamont-Doherty Earth Observatory, Columbia University, New York, NY, USA</span></h6>\n",
    "    <h6><span style=\"font:tradegothic; color:gray\"><sup>3</sup>Courant Institute of Mathematical Sciences, New York University, New York, NY, USA</span></h6>\n",
    "    <h6><span style=\"font:tradegothic; color:gray\"><sup>4</sup>Climate and Global Dynamics Division, National Center for Atmospheric Research, Boulder, CO, USA</span></h6>\n",
    "     <h6><span style=\"font:tradegothic; color:gray\"><sup>5</sup>Woods Hole Oceanographic Institution, Woods Hole, MA, USA</span></h6>\n",
    "     <h6><span style=\"font:tradegothic; color:gray\"><sup>6</sup>Earth, Ocean and Ecological Sciences, University of Liverpool, UK</span></h6>\n",
    "</div>\n",
    "<br>\n",
    "<br>"
   ]
  },
  {
   "cell_type": "markdown",
   "metadata": {
    "slideshow": {
     "slide_type": "slide"
    }
   },
   "source": [
    "<!-- background: #fff4e3-->\n",
    "<!-- color: #2d2422 -->\n",
    "<div align=\"center\">\n",
    "    <h2>Abstract</h2>\n",
    "     <hr>\n",
    "</div>\n",
    "Applying a spatial filter to gridded data from models or observations is a common analysis method in the Earth Sciences, for example to study oceanic and atmospheric motions at different spatial scales or to develop subgrid-scale parameterizations for ocean models. The spatial filters that are included in existing python packages, such as SciPy's multidimensional Gaussian filter, are typically specialized for image processing. For data from General Circulation Models (GCMs), image processing tools are however of limited use because these tools assume a regular and rectangular Cartesian grid and employ simple boundary conditions. In contrast, GCMs come on irregular curvilinear grids, and continental boundaries in GCMs need more careful treatment than currently supported. \n",
    "<br>\n",
    "<br>\n",
    "Here we introduce a new python package, GCM-Filters, which is specifically designed to filter GCM data. The GCM-Filters algorithm applies a discrete Laplacian to smooth a field through an iterative process that resembles diffusion. The discrete Laplacian takes into account the varying grid-cell geometry of the complex GCM grids and uses a no-flux boundary condition, mimicking how diffusion is internally implemented in GCMs and ensuring conservation of the integral. Conservation of the integral is a desirable filter property for many physical quantities, for example energy or ocean salinity. The user can employ GCM-Filters on either CPUs or GPUs, with NumPy or CuPy input data. Moreover, GCM-Filters leverages Dask and Xarray to support filtering of larger-than-memory datasets and computational flexibility.\n",
    "<br>\n",
    "<br>\n"
   ]
  },
  {
   "cell_type": "code",
   "execution_count": 2,
   "metadata": {
    "slideshow": {
     "slide_type": "skip"
    }
   },
   "outputs": [],
   "source": [
    "import scipy\n",
    "import matplotlib.pyplot as plt\n",
    "octocat = plt.imread('images/github_octocat.jpeg')"
   ]
  },
  {
   "cell_type": "markdown",
   "metadata": {
    "slideshow": {
     "slide_type": "slide"
    }
   },
   "source": [
    "<!-- background: #fff4e3-->\n",
    "<!-- color: #2d2422 -->\n",
    "<div align=\"left\">\n",
    "    <h2><span style=\"font:futura; color:black\">Why not use existing tools in the python stack?</span></h2>\n",
    "</div>"
   ]
  },
  {
   "cell_type": "code",
   "execution_count": 5,
   "metadata": {
    "slideshow": {
     "slide_type": "fragment"
    }
   },
   "outputs": [],
   "source": [
    "from scipy.ndimage import uniform_filter, gaussian_filter\n",
    "blurred_cat = scipy.ndimage.uniform_filter(octocat)"
   ]
  },
  {
   "cell_type": "markdown",
   "metadata": {
    "slideshow": {
     "slide_type": "fragment"
    }
   },
   "source": [
    "<!-- background: #fff4e3-->\n",
    "<!-- color: #2d2422 -->\n",
    "\n",
    "<div>\n",
    "    <p style=\"float: left;\"><img src=\"./images/filtered_octocat.png\" width=\"900\"></p>\n",
    "    <h2>\n",
    "        <div align=\"center\">\n",
    "            <span style=\"font:futura; color:black\">Existing python tools are <br>specialized for image processing<br> and Cartesian grids</span></h2>\n",
    "            <img src=\"./images/cartesian.png\" width=\"500\"/>\n",
    "        </div>\n",
    "</div>\n"
   ]
  },
  {
   "cell_type": "markdown",
   "metadata": {
    "slideshow": {
     "slide_type": "slide"
    }
   },
   "source": [
    "<!-- background: #fff4e3-->\n",
    "<!-- color: #2d2422 -->\n",
    "<div align=\"left\">\n",
    "    <h2><span style=\"font:futura; color:black\">Climate model output comes on complex grids</span></h2>\n",
    "</div>"
   ]
  },
  {
   "cell_type": "markdown",
   "metadata": {
    "slideshow": {
     "slide_type": "fragment"
    }
   },
   "source": [
    "<!-- background: #fff4e3-->\n",
    "<!-- color: #2d2422 -->\n",
    "<div align=\"cent|er\">\n",
    "    <img src=\"./images/gcm_grid.png\" width=100%/>\n",
    "</div>"
   ]
  },
  {
   "cell_type": "markdown",
   "metadata": {
    "slideshow": {
     "slide_type": "fragment"
    }
   },
   "source": [
    "<div align=\"left\" style=\"font-size:18px;\">\n",
    "    <ul>\n",
    "      <li>Grid cell geometry is spatially varying</li> \n",
    "      <br><li>Continental boundaries</li>\n",
    "      <br><li>Complex grid topologies require non-trivial exchanges at grid \"borders\"</li> \n",
    "    </ul> \n",
    "</div>"
   ]
  }
 ],
 "metadata": {
  "kernelspec": {
   "display_name": "NPL3 (20200417)",
   "language": "python",
   "name": "npl3-20200417"
  },
  "language_info": {
   "codemirror_mode": {
    "name": "ipython",
    "version": 3
   },
   "file_extension": ".py",
   "mimetype": "text/x-python",
   "name": "python",
   "nbconvert_exporter": "python",
   "pygments_lexer": "ipython3",
   "version": "3.7.5"
  }
 },
 "nbformat": 4,
 "nbformat_minor": 5
}
